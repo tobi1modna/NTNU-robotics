{
 "cells": [
  {
   "cell_type": "code",
   "execution_count": 2,
   "metadata": {},
   "outputs": [],
   "source": [
    "# !pip install sympy"
   ]
  },
  {
   "cell_type": "code",
   "execution_count": 1,
   "metadata": {},
   "outputs": [],
   "source": [
    "from sympy import symbols, cos, sin, Matrix, diag, zeros, eye\n",
    "from sympy.physics.mechanics import dynamicsymbols, mechanics_printing\n",
    "mechanics_printing()"
   ]
  },
  {
   "cell_type": "markdown",
   "metadata": {},
   "source": [
    "# Symbolic functions"
   ]
  },
  {
   "cell_type": "code",
   "execution_count": 2,
   "metadata": {},
   "outputs": [],
   "source": [
    "def skew(v):\n",
    "    return Matrix([[0, -v[2], v[1]],\n",
    "                   [v[2], 0, -v[0]],\n",
    "                   [-v[1], v[0], 0]])"
   ]
  },
  {
   "cell_type": "code",
   "execution_count": 3,
   "metadata": {},
   "outputs": [],
   "source": [
    "def exp3(omega, theta):\n",
    "    omega = skew(omega)\n",
    "    R = eye(3) + sin(theta) * omega + (1 - cos(theta)) * omega * omega\n",
    "    return R"
   ]
  },
  {
   "cell_type": "code",
   "execution_count": 4,
   "metadata": {},
   "outputs": [],
   "source": [
    "def exp3z(z, theta):\n",
    "    R = eye(3) + sin(theta) * z + (1 - cos(theta)) * z * z\n",
    "    return R"
   ]
  },
  {
   "cell_type": "code",
   "execution_count": 5,
   "metadata": {},
   "outputs": [],
   "source": [
    "def exp6(twist, theta):\n",
    "    omega = skew(twist[:3])\n",
    "    v = Matrix(twist[3:])\n",
    "    T = eye(4)\n",
    "    T[:3, :3] = exp3(twist[:3], theta)\n",
    "    T[:3, 3] = (eye(3) * theta + (1 - cos(theta)) * omega +\n",
    "                (theta - sin(theta)) * omega * omega) * v\n",
    "    return T"
   ]
  },
  {
   "cell_type": "code",
   "execution_count": 6,
   "metadata": {},
   "outputs": [],
   "source": [
    "def Ad(T):\n",
    "    AdT = zeros(6)\n",
    "    R = Matrix(T[:3, :3])\n",
    "    AdT[:3, :3] = R\n",
    "    AdT[3:, 3:] = R\n",
    "    AdT[3:, :3] = skew(T[:3, 3]) * R\n",
    "    return AdT"
   ]
  },
  {
   "cell_type": "markdown",
   "metadata": {},
   "source": [
    "# 5.1.1 Space Jacobian\n",
    "## Example: Scara Robot (RRRP)\n"
   ]
  },
  {
   "cell_type": "markdown",
   "metadata": {},
   "source": [
    "### Define symbols"
   ]
  },
  {
   "cell_type": "code",
   "execution_count": 9,
   "metadata": {},
   "outputs": [],
   "source": [
    "th1, th2, th3, th4, th5, th6, c1, c2, c3, c4, s1, s2, s3, s4 = dynamicsymbols(\"theta_1, theta_2, theta_3, theta_4, theta_5, theta_6, c1, c2, c3, c4, s1, s2, s3, s4\")\n",
    "L = symbols(\"L\")"
   ]
  },
  {
   "cell_type": "code",
   "execution_count": 11,
   "metadata": {},
   "outputs": [
    {
     "data": {
      "text/latex": [
       "$\\displaystyle \\left[\\begin{matrix}- \\sin{\\left(\\theta_{3} + \\theta_{4} + \\theta_{5} \\right)} \\sin{\\left(\\theta_{2} \\right)} \\cos{\\left(\\theta_{1} \\right)} - \\sin{\\left(\\theta_{1} \\right)} \\cos{\\left(\\theta_{3} + \\theta_{4} + \\theta_{5} \\right)}\\\\- \\sin{\\left(\\theta_{3} + \\theta_{4} + \\theta_{5} \\right)} \\sin{\\left(\\theta_{1} \\right)} \\sin{\\left(\\theta_{2} \\right)} + \\cos{\\left(\\theta_{3} + \\theta_{4} + \\theta_{5} \\right)} \\cos{\\left(\\theta_{1} \\right)}\\\\- \\sin{\\left(\\theta_{3} + \\theta_{4} + \\theta_{5} \\right)} \\cos{\\left(\\theta_{2} \\right)}\\end{matrix}\\right]$"
      ],
      "text/plain": [
       "⎡-sin(θ₃ + θ₄ + θ₅)⋅sin(θ₂)⋅cos(θ₁) - sin(θ₁)⋅cos(θ₃ + θ₄ + θ₅)⎤\n",
       "⎢                                                              ⎥\n",
       "⎢-sin(θ₃ + θ₄ + θ₅)⋅sin(θ₁)⋅sin(θ₂) + cos(θ₃ + θ₄ + θ₅)⋅cos(θ₁)⎥\n",
       "⎢                                                              ⎥\n",
       "⎣                  -sin(θ₃ + θ₄ + θ₅)⋅cos(θ₂)                  ⎦"
      ]
     },
     "execution_count": 11,
     "metadata": {},
     "output_type": "execute_result"
    }
   ],
   "source": [
    "w1 = Matrix([[0], [0], [1]])\n",
    "w2 = Matrix([[0], [1], [0]])\n",
    "w3 = Matrix([[1], [0], [0]])\n",
    "w4 = Matrix([[1], [0], [0]])\n",
    "w5 = Matrix([[1], [0], [0]])\n",
    "w6 = Matrix([[0], [1], [0]])\n",
    "\n",
    "q1 = Matrix([[0], [0], [0]])\n",
    "q2 = Matrix([[0], [0], [0]])\n",
    "q3 = Matrix([[0], [0], [0]])\n",
    "\n",
    "ws1 = w1\n",
    "vs1 = Matrix([[0], [0], [0]])\n",
    "\n",
    "ws2 = exp3(w1, th1)*w2\n",
    "vs2 = Matrix([[0], [0], [0]])\n",
    "\n",
    "ws3 = exp3(w1, th1)*exp3(w2, th2)*w3\n",
    "vs3 = Matrix([[0], [0], [0]])\n",
    "\n",
    "ws4 = exp3(w1, th1)*exp3(w2, th2)*exp3(-w3, th3)*w4\n",
    "q4 = exp3(w1, th1)*exp3(w2, th2)*exp3(-w3, th3)*Matrix([[0],[L],[0]])\n",
    "vs4 = -skew(ws4)*q4\n",
    "\n",
    "ws5 = exp3(w1, th1)*exp3(w2, th2)*exp3(-w3, th3)*exp3(-w4, th4)*w5\n",
    "q5 = q4 + exp3(w1, th1)*exp3(w2, th2)*exp3(-w3, th3)*exp3(-w4, th4)*Matrix([[0],[L],[0]])\n",
    "vs5 = -skew(ws5)*q5\n",
    "\n",
    "ws6= exp3(w1, th1)*exp3(w2, th2)*exp3(-w3, th3)*exp3(-w4, th4)*exp3(-w5, th5)*w6\n",
    "q6 = q5 + exp3(w1, th1)*exp3(w2, th2)*exp3(-w3, th3)*exp3(-w4, th4)*exp3(-w5, th5)*Matrix([[0],[L],[0]])\n",
    "vs6 = -skew(ws6)*q6\n",
    "\n",
    "\n",
    "ws1.simplify()\n",
    "ws2.simplify()\n",
    "ws3.simplify()\n",
    "ws4.simplify()\n",
    "ws5.simplify()\n",
    "ws6.simplify()\n",
    "vs1.simplify()\n",
    "vs2.simplify()\n",
    "vs3.simplify()\n",
    "vs4.simplify()\n",
    "vs5.simplify()\n",
    "vs6.simplify()\n",
    "ws6"
   ]
  },
  {
   "cell_type": "code",
   "execution_count": 12,
   "metadata": {},
   "outputs": [
    {
     "data": {
      "text/latex": [
       "$\\displaystyle \\left[\\begin{matrix}0 & 0 & 0 & 0 & 0 & 0\\\\0 & 0 & 0 & 0 & 0 & 0\\\\0 & 0 & 0 & 0 & 0 & 0\\\\0 & 0 & 0 & 0 & 0 & 0\\\\0 & 0 & 0 & 0 & 0 & 0\\\\0 & 0 & 0 & 0 & 0 & 0\\end{matrix}\\right]$"
      ],
      "text/plain": [
       "⎡0  0  0  0  0  0⎤\n",
       "⎢                ⎥\n",
       "⎢0  0  0  0  0  0⎥\n",
       "⎢                ⎥\n",
       "⎢0  0  0  0  0  0⎥\n",
       "⎢                ⎥\n",
       "⎢0  0  0  0  0  0⎥\n",
       "⎢                ⎥\n",
       "⎢0  0  0  0  0  0⎥\n",
       "⎢                ⎥\n",
       "⎣0  0  0  0  0  0⎦"
      ]
     },
     "execution_count": 12,
     "metadata": {},
     "output_type": "execute_result"
    }
   ],
   "source": [
    "Js = zeros(6,6)\n",
    "Js"
   ]
  },
  {
   "cell_type": "code",
   "execution_count": 14,
   "metadata": {},
   "outputs": [
    {
     "data": {
      "text/latex": [
       "$\\displaystyle \\left[\\begin{matrix}0 & - \\sin{\\left(\\theta_{1} \\right)} & \\cos{\\left(\\theta_{1} \\right)} \\cos{\\left(\\theta_{2} \\right)} & \\cos{\\left(\\theta_{1} \\right)} \\cos{\\left(\\theta_{2} \\right)} & \\cos{\\left(\\theta_{1} \\right)} \\cos{\\left(\\theta_{2} \\right)} & - \\sin{\\left(\\theta_{3} + \\theta_{4} + \\theta_{5} \\right)} \\sin{\\left(\\theta_{2} \\right)} \\cos{\\left(\\theta_{1} \\right)} - \\sin{\\left(\\theta_{1} \\right)} \\cos{\\left(\\theta_{3} + \\theta_{4} + \\theta_{5} \\right)}\\\\0 & \\cos{\\left(\\theta_{1} \\right)} & \\sin{\\left(\\theta_{1} \\right)} \\cos{\\left(\\theta_{2} \\right)} & \\sin{\\left(\\theta_{1} \\right)} \\cos{\\left(\\theta_{2} \\right)} & \\sin{\\left(\\theta_{1} \\right)} \\cos{\\left(\\theta_{2} \\right)} & - \\sin{\\left(\\theta_{3} + \\theta_{4} + \\theta_{5} \\right)} \\sin{\\left(\\theta_{1} \\right)} \\sin{\\left(\\theta_{2} \\right)} + \\cos{\\left(\\theta_{3} + \\theta_{4} + \\theta_{5} \\right)} \\cos{\\left(\\theta_{1} \\right)}\\\\1 & 0 & - \\sin{\\left(\\theta_{2} \\right)} & - \\sin{\\left(\\theta_{2} \\right)} & - \\sin{\\left(\\theta_{2} \\right)} & - \\sin{\\left(\\theta_{3} + \\theta_{4} + \\theta_{5} \\right)} \\cos{\\left(\\theta_{2} \\right)}\\\\0 & 0 & 0 & L \\left(\\sin{\\left(\\theta_{1} \\right)} \\sin{\\left(\\theta_{3} \\right)} - \\sin{\\left(\\theta_{2} \\right)} \\cos{\\left(\\theta_{1} \\right)} \\cos{\\left(\\theta_{3} \\right)}\\right) & L \\left(\\sin{\\left(\\theta_{3} + \\theta_{4} \\right)} \\sin{\\left(\\theta_{1} \\right)} + \\sin{\\left(\\theta_{1} \\right)} \\sin{\\left(\\theta_{3} \\right)} - \\sin{\\left(\\theta_{2} \\right)} \\cos{\\left(\\theta_{3} + \\theta_{4} \\right)} \\cos{\\left(\\theta_{1} \\right)} - \\sin{\\left(\\theta_{2} \\right)} \\cos{\\left(\\theta_{1} \\right)} \\cos{\\left(\\theta_{3} \\right)}\\right) & - L \\left(\\sin{\\left(\\theta_{4} + \\theta_{5} \\right)} + \\sin{\\left(\\theta_{5} \\right)}\\right) \\cos{\\left(\\theta_{1} \\right)} \\cos{\\left(\\theta_{2} \\right)}\\\\0 & 0 & 0 & - L \\left(\\sin{\\left(\\theta_{1} \\right)} \\sin{\\left(\\theta_{2} \\right)} \\cos{\\left(\\theta_{3} \\right)} + \\sin{\\left(\\theta_{3} \\right)} \\cos{\\left(\\theta_{1} \\right)}\\right) & - L \\left(\\sin{\\left(\\theta_{3} + \\theta_{4} \\right)} \\cos{\\left(\\theta_{1} \\right)} + \\sin{\\left(\\theta_{1} \\right)} \\sin{\\left(\\theta_{2} \\right)} \\cos{\\left(\\theta_{3} + \\theta_{4} \\right)} + \\sin{\\left(\\theta_{1} \\right)} \\sin{\\left(\\theta_{2} \\right)} \\cos{\\left(\\theta_{3} \\right)} + \\sin{\\left(\\theta_{3} \\right)} \\cos{\\left(\\theta_{1} \\right)}\\right) & - L \\left(\\sin{\\left(\\theta_{4} + \\theta_{5} \\right)} + \\sin{\\left(\\theta_{5} \\right)}\\right) \\sin{\\left(\\theta_{1} \\right)} \\cos{\\left(\\theta_{2} \\right)}\\\\0 & 0 & 0 & - L \\cos{\\left(\\theta_{2} \\right)} \\cos{\\left(\\theta_{3} \\right)} & - L \\left(\\cos{\\left(\\theta_{3} + \\theta_{4} \\right)} + \\cos{\\left(\\theta_{3} \\right)}\\right) \\cos{\\left(\\theta_{2} \\right)} & L \\left(\\sin{\\left(\\theta_{4} + \\theta_{5} \\right)} + \\sin{\\left(\\theta_{5} \\right)}\\right) \\sin{\\left(\\theta_{2} \\right)}\\end{matrix}\\right]$"
      ],
      "text/plain": [
       "⎡0  -sin(θ₁)  cos(θ₁)⋅cos(θ₂)                 cos(θ₁)⋅cos(θ₂)                 \n",
       "⎢                                                                             \n",
       "⎢0  cos(θ₁)   sin(θ₁)⋅cos(θ₂)                 sin(θ₁)⋅cos(θ₂)                 \n",
       "⎢                                                                             \n",
       "⎢1     0         -sin(θ₂)                         -sin(θ₂)                    \n",
       "⎢                                                                             \n",
       "⎢0     0             0         L⋅(sin(θ₁)⋅sin(θ₃) - sin(θ₂)⋅cos(θ₁)⋅cos(θ₃))  \n",
       "⎢                                                                             \n",
       "⎢0     0             0         -L⋅(sin(θ₁)⋅sin(θ₂)⋅cos(θ₃) + sin(θ₃)⋅cos(θ₁)) \n",
       "⎢                                                                             \n",
       "⎣0     0             0                       -L⋅cos(θ₂)⋅cos(θ₃)               \n",
       "\n",
       "                                           cos(θ₁)⋅cos(θ₂)                    \n",
       "                                                                              \n",
       "                                           sin(θ₁)⋅cos(θ₂)                    \n",
       "                                                                              \n",
       "                                               -sin(θ₂)                       \n",
       "                                                                              \n",
       " L⋅(sin(θ₃ + θ₄)⋅sin(θ₁) + sin(θ₁)⋅sin(θ₃) - sin(θ₂)⋅cos(θ₃ + θ₄)⋅cos(θ₁) - si\n",
       "                                                                              \n",
       " -L⋅(sin(θ₃ + θ₄)⋅cos(θ₁) + sin(θ₁)⋅sin(θ₂)⋅cos(θ₃ + θ₄) + sin(θ₁)⋅sin(θ₂)⋅cos\n",
       "                                                                              \n",
       "                                 -L⋅(cos(θ₃ + θ₄) + cos(θ₃))⋅cos(θ₂)          \n",
       "\n",
       "                         -sin(θ₃ + θ₄ + θ₅)⋅sin(θ₂)⋅cos(θ₁) - sin(θ₁)⋅cos(θ₃ +\n",
       "                                                                              \n",
       "                         -sin(θ₃ + θ₄ + θ₅)⋅sin(θ₁)⋅sin(θ₂) + cos(θ₃ + θ₄ + θ₅\n",
       "                                                                              \n",
       "                                           -sin(θ₃ + θ₄ + θ₅)⋅cos(θ₂)         \n",
       "                                                                              \n",
       "n(θ₂)⋅cos(θ₁)⋅cos(θ₃))            -L⋅(sin(θ₄ + θ₅) + sin(θ₅))⋅cos(θ₁)⋅cos(θ₂) \n",
       "                                                                              \n",
       "(θ₃) + sin(θ₃)⋅cos(θ₁))           -L⋅(sin(θ₄ + θ₅) + sin(θ₅))⋅sin(θ₁)⋅cos(θ₂) \n",
       "                                                                              \n",
       "                                       L⋅(sin(θ₄ + θ₅) + sin(θ₅))⋅sin(θ₂)     \n",
       "\n",
       " θ₄ + θ₅)⎤\n",
       "         ⎥\n",
       ")⋅cos(θ₁)⎥\n",
       "         ⎥\n",
       "         ⎥\n",
       "         ⎥\n",
       "         ⎥\n",
       "         ⎥\n",
       "         ⎥\n",
       "         ⎥\n",
       "         ⎦"
      ]
     },
     "execution_count": 14,
     "metadata": {},
     "output_type": "execute_result"
    }
   ],
   "source": [
    "Js[:3,0] = ws1\n",
    "Js[:3,1] = ws2\n",
    "Js[:3,2] = ws3\n",
    "Js[:3,3] = ws4\n",
    "Js[:3,4] = ws5\n",
    "Js[:3,5] = ws6\n",
    "Js[3:,0] = vs1\n",
    "Js[3:,1] = vs2\n",
    "Js[3:,2] = vs3\n",
    "Js[3:,3] = vs4\n",
    "Js[3:,4] = vs5\n",
    "Js[3:,5] = vs6\n",
    "Js"
   ]
  },
  {
   "cell_type": "code",
   "execution_count": 18,
   "metadata": {},
   "outputs": [
    {
     "data": {
      "text/latex": [
       "$\\displaystyle \\left[\\begin{matrix}0\\\\0\\\\1\\\\0\\\\0\\\\0\\end{matrix}\\right]$"
      ],
      "text/plain": [
       "⎡0⎤\n",
       "⎢ ⎥\n",
       "⎢0⎥\n",
       "⎢ ⎥\n",
       "⎢1⎥\n",
       "⎢ ⎥\n",
       "⎢0⎥\n",
       "⎢ ⎥\n",
       "⎢0⎥\n",
       "⎢ ⎥\n",
       "⎣0⎦"
      ]
     },
     "execution_count": 18,
     "metadata": {},
     "output_type": "execute_result"
    }
   ],
   "source": [
    "Js[:,0]"
   ]
  },
  {
   "cell_type": "code",
   "execution_count": 19,
   "metadata": {},
   "outputs": [
    {
     "data": {
      "text/latex": [
       "$\\displaystyle \\left[\\begin{matrix}- \\sin{\\left(\\theta_{1} \\right)}\\\\\\cos{\\left(\\theta_{1} \\right)}\\\\0\\\\0\\\\0\\\\0\\end{matrix}\\right]$"
      ],
      "text/plain": [
       "⎡-sin(θ₁)⎤\n",
       "⎢        ⎥\n",
       "⎢cos(θ₁) ⎥\n",
       "⎢        ⎥\n",
       "⎢   0    ⎥\n",
       "⎢        ⎥\n",
       "⎢   0    ⎥\n",
       "⎢        ⎥\n",
       "⎢   0    ⎥\n",
       "⎢        ⎥\n",
       "⎣   0    ⎦"
      ]
     },
     "execution_count": 19,
     "metadata": {},
     "output_type": "execute_result"
    }
   ],
   "source": [
    "Js[:,1]"
   ]
  },
  {
   "cell_type": "code",
   "execution_count": 20,
   "metadata": {},
   "outputs": [
    {
     "data": {
      "text/latex": [
       "$\\displaystyle \\left[\\begin{matrix}\\cos{\\left(\\theta_{1} \\right)} \\cos{\\left(\\theta_{2} \\right)}\\\\\\sin{\\left(\\theta_{1} \\right)} \\cos{\\left(\\theta_{2} \\right)}\\\\- \\sin{\\left(\\theta_{2} \\right)}\\\\0\\\\0\\\\0\\end{matrix}\\right]$"
      ],
      "text/plain": [
       "⎡cos(θ₁)⋅cos(θ₂)⎤\n",
       "⎢               ⎥\n",
       "⎢sin(θ₁)⋅cos(θ₂)⎥\n",
       "⎢               ⎥\n",
       "⎢   -sin(θ₂)    ⎥\n",
       "⎢               ⎥\n",
       "⎢       0       ⎥\n",
       "⎢               ⎥\n",
       "⎢       0       ⎥\n",
       "⎢               ⎥\n",
       "⎣       0       ⎦"
      ]
     },
     "execution_count": 20,
     "metadata": {},
     "output_type": "execute_result"
    }
   ],
   "source": [
    "Js[:,2]"
   ]
  },
  {
   "cell_type": "code",
   "execution_count": 21,
   "metadata": {},
   "outputs": [
    {
     "data": {
      "text/latex": [
       "$\\displaystyle \\left[\\begin{matrix}\\cos{\\left(\\theta_{1} \\right)} \\cos{\\left(\\theta_{2} \\right)}\\\\\\sin{\\left(\\theta_{1} \\right)} \\cos{\\left(\\theta_{2} \\right)}\\\\- \\sin{\\left(\\theta_{2} \\right)}\\\\L \\left(\\sin{\\left(\\theta_{1} \\right)} \\sin{\\left(\\theta_{3} \\right)} - \\sin{\\left(\\theta_{2} \\right)} \\cos{\\left(\\theta_{1} \\right)} \\cos{\\left(\\theta_{3} \\right)}\\right)\\\\- L \\left(\\sin{\\left(\\theta_{1} \\right)} \\sin{\\left(\\theta_{2} \\right)} \\cos{\\left(\\theta_{3} \\right)} + \\sin{\\left(\\theta_{3} \\right)} \\cos{\\left(\\theta_{1} \\right)}\\right)\\\\- L \\cos{\\left(\\theta_{2} \\right)} \\cos{\\left(\\theta_{3} \\right)}\\end{matrix}\\right]$"
      ],
      "text/plain": [
       "⎡               cos(θ₁)⋅cos(θ₂)                ⎤\n",
       "⎢                                              ⎥\n",
       "⎢               sin(θ₁)⋅cos(θ₂)                ⎥\n",
       "⎢                                              ⎥\n",
       "⎢                   -sin(θ₂)                   ⎥\n",
       "⎢                                              ⎥\n",
       "⎢L⋅(sin(θ₁)⋅sin(θ₃) - sin(θ₂)⋅cos(θ₁)⋅cos(θ₃)) ⎥\n",
       "⎢                                              ⎥\n",
       "⎢-L⋅(sin(θ₁)⋅sin(θ₂)⋅cos(θ₃) + sin(θ₃)⋅cos(θ₁))⎥\n",
       "⎢                                              ⎥\n",
       "⎣              -L⋅cos(θ₂)⋅cos(θ₃)              ⎦"
      ]
     },
     "execution_count": 21,
     "metadata": {},
     "output_type": "execute_result"
    }
   ],
   "source": [
    "Js[:,3]"
   ]
  },
  {
   "cell_type": "code",
   "execution_count": 24,
   "metadata": {},
   "outputs": [
    {
     "data": {
      "text/latex": [
       "$\\displaystyle \\left[\\begin{matrix}\\cos{\\left(\\theta_{1} \\right)} \\cos{\\left(\\theta_{2} \\right)}\\\\\\sin{\\left(\\theta_{1} \\right)} \\cos{\\left(\\theta_{2} \\right)}\\\\- \\sin{\\left(\\theta_{2} \\right)}\\\\L \\left(\\sin{\\left(\\theta_{3} + \\theta_{4} \\right)} \\sin{\\left(\\theta_{1} \\right)} + \\sin{\\left(\\theta_{1} \\right)} \\sin{\\left(\\theta_{3} \\right)} - \\sin{\\left(\\theta_{2} \\right)} \\cos{\\left(\\theta_{3} + \\theta_{4} \\right)} \\cos{\\left(\\theta_{1} \\right)} - \\sin{\\left(\\theta_{2} \\right)} \\cos{\\left(\\theta_{1} \\right)} \\cos{\\left(\\theta_{3} \\right)}\\right)\\\\- L \\left(\\sin{\\left(\\theta_{3} + \\theta_{4} \\right)} \\cos{\\left(\\theta_{1} \\right)} + \\sin{\\left(\\theta_{1} \\right)} \\sin{\\left(\\theta_{2} \\right)} \\cos{\\left(\\theta_{3} + \\theta_{4} \\right)} + \\sin{\\left(\\theta_{1} \\right)} \\sin{\\left(\\theta_{2} \\right)} \\cos{\\left(\\theta_{3} \\right)} + \\sin{\\left(\\theta_{3} \\right)} \\cos{\\left(\\theta_{1} \\right)}\\right)\\\\- L \\left(\\cos{\\left(\\theta_{3} + \\theta_{4} \\right)} + \\cos{\\left(\\theta_{3} \\right)}\\right) \\cos{\\left(\\theta_{2} \\right)}\\end{matrix}\\right]$"
      ],
      "text/plain": [
       "⎡                                          cos(θ₁)⋅cos(θ₂)                    \n",
       "⎢                                                                             \n",
       "⎢                                          sin(θ₁)⋅cos(θ₂)                    \n",
       "⎢                                                                             \n",
       "⎢                                              -sin(θ₂)                       \n",
       "⎢                                                                             \n",
       "⎢L⋅(sin(θ₃ + θ₄)⋅sin(θ₁) + sin(θ₁)⋅sin(θ₃) - sin(θ₂)⋅cos(θ₃ + θ₄)⋅cos(θ₁) - si\n",
       "⎢                                                                             \n",
       "⎢-L⋅(sin(θ₃ + θ₄)⋅cos(θ₁) + sin(θ₁)⋅sin(θ₂)⋅cos(θ₃ + θ₄) + sin(θ₁)⋅sin(θ₂)⋅cos\n",
       "⎢                                                                             \n",
       "⎣                                -L⋅(cos(θ₃ + θ₄) + cos(θ₃))⋅cos(θ₂)          \n",
       "\n",
       "                       ⎤\n",
       "                       ⎥\n",
       "                       ⎥\n",
       "                       ⎥\n",
       "                       ⎥\n",
       "                       ⎥\n",
       "n(θ₂)⋅cos(θ₁)⋅cos(θ₃)) ⎥\n",
       "                       ⎥\n",
       "(θ₃) + sin(θ₃)⋅cos(θ₁))⎥\n",
       "                       ⎥\n",
       "                       ⎦"
      ]
     },
     "execution_count": 24,
     "metadata": {},
     "output_type": "execute_result"
    }
   ],
   "source": [
    "Js[:,4]"
   ]
  },
  {
   "cell_type": "code",
   "execution_count": 25,
   "metadata": {},
   "outputs": [
    {
     "data": {
      "text/latex": [
       "$\\displaystyle \\left[\\begin{matrix}- \\sin{\\left(\\theta_{3} + \\theta_{4} + \\theta_{5} \\right)} \\sin{\\left(\\theta_{2} \\right)} \\cos{\\left(\\theta_{1} \\right)} - \\sin{\\left(\\theta_{1} \\right)} \\cos{\\left(\\theta_{3} + \\theta_{4} + \\theta_{5} \\right)}\\\\- \\sin{\\left(\\theta_{3} + \\theta_{4} + \\theta_{5} \\right)} \\sin{\\left(\\theta_{1} \\right)} \\sin{\\left(\\theta_{2} \\right)} + \\cos{\\left(\\theta_{3} + \\theta_{4} + \\theta_{5} \\right)} \\cos{\\left(\\theta_{1} \\right)}\\\\- \\sin{\\left(\\theta_{3} + \\theta_{4} + \\theta_{5} \\right)} \\cos{\\left(\\theta_{2} \\right)}\\\\- L \\left(\\sin{\\left(\\theta_{4} + \\theta_{5} \\right)} + \\sin{\\left(\\theta_{5} \\right)}\\right) \\cos{\\left(\\theta_{1} \\right)} \\cos{\\left(\\theta_{2} \\right)}\\\\- L \\left(\\sin{\\left(\\theta_{4} + \\theta_{5} \\right)} + \\sin{\\left(\\theta_{5} \\right)}\\right) \\sin{\\left(\\theta_{1} \\right)} \\cos{\\left(\\theta_{2} \\right)}\\\\L \\left(\\sin{\\left(\\theta_{4} + \\theta_{5} \\right)} + \\sin{\\left(\\theta_{5} \\right)}\\right) \\sin{\\left(\\theta_{2} \\right)}\\end{matrix}\\right]$"
      ],
      "text/plain": [
       "⎡-sin(θ₃ + θ₄ + θ₅)⋅sin(θ₂)⋅cos(θ₁) - sin(θ₁)⋅cos(θ₃ + θ₄ + θ₅)⎤\n",
       "⎢                                                              ⎥\n",
       "⎢-sin(θ₃ + θ₄ + θ₅)⋅sin(θ₁)⋅sin(θ₂) + cos(θ₃ + θ₄ + θ₅)⋅cos(θ₁)⎥\n",
       "⎢                                                              ⎥\n",
       "⎢                  -sin(θ₃ + θ₄ + θ₅)⋅cos(θ₂)                  ⎥\n",
       "⎢                                                              ⎥\n",
       "⎢         -L⋅(sin(θ₄ + θ₅) + sin(θ₅))⋅cos(θ₁)⋅cos(θ₂)          ⎥\n",
       "⎢                                                              ⎥\n",
       "⎢         -L⋅(sin(θ₄ + θ₅) + sin(θ₅))⋅sin(θ₁)⋅cos(θ₂)          ⎥\n",
       "⎢                                                              ⎥\n",
       "⎣              L⋅(sin(θ₄ + θ₅) + sin(θ₅))⋅sin(θ₂)              ⎦"
      ]
     },
     "execution_count": 25,
     "metadata": {},
     "output_type": "execute_result"
    }
   ],
   "source": [
    "Js[:,5]"
   ]
  },
  {
   "cell_type": "code",
   "execution_count": null,
   "metadata": {},
   "outputs": [],
   "source": []
  }
 ],
 "metadata": {
  "kernelspec": {
   "display_name": "Python 3.8.13 ('robotics')",
   "language": "python",
   "name": "python3"
  },
  "language_info": {
   "codemirror_mode": {
    "name": "ipython",
    "version": 3
   },
   "file_extension": ".py",
   "mimetype": "text/x-python",
   "name": "python",
   "nbconvert_exporter": "python",
   "pygments_lexer": "ipython3",
   "version": "3.8.13"
  },
  "vscode": {
   "interpreter": {
    "hash": "7c367ba602bb56783fbda3c2794e4d9b7863a8a3f3e83edfb9f45eecef099e8a"
   }
  }
 },
 "nbformat": 4,
 "nbformat_minor": 4
}
