{
 "cells": [
  {
   "cell_type": "code",
   "execution_count": 1,
   "metadata": {},
   "outputs": [],
   "source": [
    "# !pip install sympy"
   ]
  },
  {
   "cell_type": "code",
   "execution_count": 58,
   "metadata": {},
   "outputs": [],
   "source": [
    "from sympy import symbols, cos, sin, Matrix, diag, zeros, eye, pi\n",
    "from sympy.physics.mechanics import dynamicsymbols, mechanics_printing\n",
    "mechanics_printing()"
   ]
  },
  {
   "cell_type": "markdown",
   "metadata": {},
   "source": [
    "# Symbolic functions"
   ]
  },
  {
   "cell_type": "code",
   "execution_count": 59,
   "metadata": {},
   "outputs": [],
   "source": [
    "def skew(v):\n",
    "    return Matrix([[0, -v[2], v[1]],\n",
    "                   [v[2], 0, -v[0]],\n",
    "                   [-v[1], v[0], 0]])"
   ]
  },
  {
   "cell_type": "code",
   "execution_count": 60,
   "metadata": {},
   "outputs": [],
   "source": [
    "def exp3(omega, theta):\n",
    "    omega = skew(omega)\n",
    "    R = eye(3) + sin(theta) * omega + (1 - cos(theta)) * omega * omega\n",
    "    return R"
   ]
  },
  {
   "cell_type": "code",
   "execution_count": 61,
   "metadata": {},
   "outputs": [],
   "source": [
    "def exp6(twist, theta):\n",
    "    omega = skew(twist[:3])\n",
    "    v = Matrix(twist[3:])\n",
    "    T = eye(4)\n",
    "    T[:3, :3] = exp3(twist[:3], theta)\n",
    "    T[:3, 3] = (eye(3) * theta + (1 - cos(theta)) * omega +\n",
    "                (theta - sin(theta)) * omega * omega) * v\n",
    "    return T"
   ]
  },
  {
   "cell_type": "code",
   "execution_count": 62,
   "metadata": {},
   "outputs": [],
   "source": [
    "def Ad(T):\n",
    "    AdT = zeros(6)\n",
    "    R = Matrix(T[:3, :3])\n",
    "    AdT[:3, :3] = R\n",
    "    AdT[3:, 3:] = R\n",
    "    AdT[3:, :3] = skew(T[:3, 3]) * R\n",
    "    return AdT"
   ]
  },
  {
   "cell_type": "markdown",
   "metadata": {},
   "source": [
    "# 5.1.1 Space Jacobian\n",
    "## Example: Scara Robot (RRRP)\n"
   ]
  },
  {
   "cell_type": "markdown",
   "metadata": {},
   "source": [
    "### Define symbols"
   ]
  },
  {
   "cell_type": "code",
   "execution_count": 63,
   "metadata": {},
   "outputs": [],
   "source": [
    "th1, th2, th3, th4 = dynamicsymbols(\"theta_1, theta_2, theta_3, theta_4\")\n",
    "L1, L2, L3, L4 = symbols(\"L_1, L_2, L_3, L_4\")\n",
    "\n"
   ]
  },
  {
   "cell_type": "markdown",
   "metadata": {},
   "source": [
    "### Define screw axes"
   ]
  },
  {
   "cell_type": "code",
   "execution_count": 70,
   "metadata": {},
   "outputs": [],
   "source": [
    "import numpy as np\n",
    "\n",
    "S1 = Matrix([[0],[0],[1],[0],[0],[0]])\n",
    "S2 = Matrix([[0],[0],[1],[0],[-L1],[0]])\n",
    "S3 = Matrix([[0],[0],[1],[0],[-L1-L2],[0]])\n",
    "S4 = Matrix([[0],[0],[1],[0],[-L1-L2-L3],[0]])\n",
    "th1=0\n",
    "th2=0\n",
    "th3=pi/2\n",
    "th4=pi/2\n",
    "f = Matrix([10, 10, 0])\n",
    "m = Matrix([0, 0, 10])"
   ]
  },
  {
   "cell_type": "markdown",
   "metadata": {},
   "source": [
    "### Define columns of Jacobian matrix"
   ]
  },
  {
   "cell_type": "code",
   "execution_count": 71,
   "metadata": {},
   "outputs": [],
   "source": [
    "Js1 = S1"
   ]
  },
  {
   "cell_type": "code",
   "execution_count": 72,
   "metadata": {},
   "outputs": [],
   "source": [
    "Js2 = Ad(exp6(S1, th1)) * S2\n",
    "Js2.simplify()\n",
    "# in sympy unlike numpy, * is the matrix multiplication and not @"
   ]
  },
  {
   "cell_type": "code",
   "execution_count": 73,
   "metadata": {},
   "outputs": [
    {
     "data": {
      "text/latex": [
       "$\\displaystyle \\left[\\begin{matrix}0\\\\0\\\\1\\\\0\\\\- L_{1} - L_{2}\\\\0\\end{matrix}\\right]$"
      ],
      "text/plain": [
       "⎡   0    ⎤\n",
       "⎢        ⎥\n",
       "⎢   0    ⎥\n",
       "⎢        ⎥\n",
       "⎢   1    ⎥\n",
       "⎢        ⎥\n",
       "⎢   0    ⎥\n",
       "⎢        ⎥\n",
       "⎢-L₁ - L₂⎥\n",
       "⎢        ⎥\n",
       "⎣   0    ⎦"
      ]
     },
     "execution_count": 73,
     "metadata": {},
     "output_type": "execute_result"
    }
   ],
   "source": [
    "Js3 = Ad(exp6(S1, th1) * exp6(S2, th2)) * S3\n",
    "Js3.simplify() #questa funzione cerca di semplificare al massimo la formula, facendo ciò otteniamo la stessa fomula che è riportata sul libro MR\n",
    "Js3"
   ]
  },
  {
   "cell_type": "code",
   "execution_count": 74,
   "metadata": {},
   "outputs": [
    {
     "data": {
      "text/latex": [
       "$\\displaystyle \\left[\\begin{matrix}0\\\\0\\\\1\\\\L_{3}\\\\- L_{1} - L_{2}\\\\0\\end{matrix}\\right]$"
      ],
      "text/plain": [
       "⎡   0    ⎤\n",
       "⎢        ⎥\n",
       "⎢   0    ⎥\n",
       "⎢        ⎥\n",
       "⎢   1    ⎥\n",
       "⎢        ⎥\n",
       "⎢   L₃   ⎥\n",
       "⎢        ⎥\n",
       "⎢-L₁ - L₂⎥\n",
       "⎢        ⎥\n",
       "⎣   0    ⎦"
      ]
     },
     "execution_count": 74,
     "metadata": {},
     "output_type": "execute_result"
    }
   ],
   "source": [
    "Js4 = Ad(exp6(S1, th1) * exp6(S2, th2) * exp6(S3, th3)) * S4\n",
    "Js4.simplify()\n",
    "Js4"
   ]
  },
  {
   "cell_type": "code",
   "execution_count": 69,
   "metadata": {},
   "outputs": [],
   "source": [
    "L1, L2, L3, L4 = symbols(\"L_1, L_2, L_3, L_4\")\n",
    "\n",
    "B1 = Matrix([[0],[0],[1],[0],[L1+L2+L3+L4],[0]])\n",
    "B2 = Matrix([[0],[0],[1],[0],[L2+L3+L4],[0]])\n",
    "B3 = Matrix([[0],[0],[1],[0],[L3+L4],[0]])\n",
    "B4 = Matrix([[0],[0],[1],[0],[L4],[0]])"
   ]
  },
  {
   "cell_type": "markdown",
   "metadata": {},
   "source": []
  },
  {
   "cell_type": "code",
   "execution_count": 49,
   "metadata": {},
   "outputs": [],
   "source": [
    "\n",
    "Jb4 = B4\n",
    "Jb3 = Ad(exp6(B4, th4)) * B3\n",
    "Jb2 = Ad(exp6(B4, th4) * exp6(B3, th3)) * B2\n",
    "Jb1 = Ad(exp6(B4, th4) * exp6(B3, th3) * exp6(B2, th2)) * B1\n",
    "Jb4.simplify()\n",
    "Jb3.simplify()\n",
    "Jb2.simplify()\n",
    "Jb1.simplify()\n"
   ]
  },
  {
   "cell_type": "code",
   "execution_count": 28,
   "metadata": {},
   "outputs": [
    {
     "data": {
      "text/latex": [
       "$\\displaystyle \\left[\\begin{matrix}0 & 0 & 0 & 0\\\\0 & 0 & 0 & 0\\\\1 & 1 & 1 & 1\\\\- L_{1} \\sin{\\left(\\theta_{2} + \\theta_{3} + \\theta_{4} \\right)} - L_{2} \\sin{\\left(\\theta_{3} + \\theta_{4} \\right)} - L_{3} \\sin{\\left(\\theta_{4} \\right)} & - L_{2} \\sin{\\left(\\theta_{3} + \\theta_{4} \\right)} - L_{3} \\sin{\\left(\\theta_{4} \\right)} & - L_{3} \\sin{\\left(\\theta_{4} \\right)} & 0\\\\L_{1} \\cos{\\left(\\theta_{2} + \\theta_{3} + \\theta_{4} \\right)} + L_{2} \\cos{\\left(\\theta_{3} + \\theta_{4} \\right)} + L_{3} \\cos{\\left(\\theta_{4} \\right)} + L_{4} & L_{2} \\cos{\\left(\\theta_{3} + \\theta_{4} \\right)} + L_{3} \\cos{\\left(\\theta_{4} \\right)} + L_{4} & L_{3} \\cos{\\left(\\theta_{4} \\right)} + L_{4} & L_{4}\\\\0 & 0 & 0 & 0\\end{matrix}\\right]$"
      ],
      "text/plain": [
       "⎡                           0                                              0  \n",
       "⎢                                                                             \n",
       "⎢                           0                                              0  \n",
       "⎢                                                                             \n",
       "⎢                           1                                              1  \n",
       "⎢                                                                             \n",
       "⎢  -L₁⋅sin(θ₂ + θ₃ + θ₄) - L₂⋅sin(θ₃ + θ₄) - L₃⋅sin(θ₄)      -L₂⋅sin(θ₃ + θ₄) \n",
       "⎢                                                                             \n",
       "⎢L₁⋅cos(θ₂ + θ₃ + θ₄) + L₂⋅cos(θ₃ + θ₄) + L₃⋅cos(θ₄) + L₄  L₂⋅cos(θ₃ + θ₄) + L\n",
       "⎢                                                                             \n",
       "⎣                           0                                              0  \n",
       "\n",
       "                       0         0 ⎤\n",
       "                                   ⎥\n",
       "                       0         0 ⎥\n",
       "                                   ⎥\n",
       "                       1         1 ⎥\n",
       "                                   ⎥\n",
       "- L₃⋅sin(θ₄)      -L₃⋅sin(θ₄)    0 ⎥\n",
       "                                   ⎥\n",
       "₃⋅cos(θ₄) + L₄  L₃⋅cos(θ₄) + L₄  L₄⎥\n",
       "                                   ⎥\n",
       "                       0         0 ⎦"
      ]
     },
     "execution_count": 28,
     "metadata": {},
     "output_type": "execute_result"
    }
   ],
   "source": [
    "Jb = zeros(6, 4)\n",
    "Jb[:, 0] = Jb1\n",
    "Jb[:, 1] = Jb2\n",
    "Jb[:, 2] = Jb3\n",
    "Jb[:, 3] = Jb4\n",
    "Jb"
   ]
  },
  {
   "cell_type": "markdown",
   "metadata": {},
   "source": [
    "### Fill in columns of Jacobian"
   ]
  },
  {
   "cell_type": "code",
   "execution_count": 75,
   "metadata": {},
   "outputs": [
    {
     "data": {
      "text/latex": [
       "$\\displaystyle \\left[\\begin{matrix}0 & 0 & 0 & 0\\\\0 & 0 & 0 & 0\\\\0 & 0 & 0 & 0\\\\0 & 0 & 0 & 0\\\\0 & 0 & 0 & 0\\\\0 & 0 & 0 & 0\\end{matrix}\\right]$"
      ],
      "text/plain": [
       "⎡0  0  0  0⎤\n",
       "⎢          ⎥\n",
       "⎢0  0  0  0⎥\n",
       "⎢          ⎥\n",
       "⎢0  0  0  0⎥\n",
       "⎢          ⎥\n",
       "⎢0  0  0  0⎥\n",
       "⎢          ⎥\n",
       "⎢0  0  0  0⎥\n",
       "⎢          ⎥\n",
       "⎣0  0  0  0⎦"
      ]
     },
     "execution_count": 75,
     "metadata": {},
     "output_type": "execute_result"
    }
   ],
   "source": [
    "Js = zeros(6, 4)\n",
    "Js"
   ]
  },
  {
   "cell_type": "code",
   "execution_count": 76,
   "metadata": {},
   "outputs": [
    {
     "data": {
      "text/latex": [
       "$\\displaystyle \\left[\\begin{matrix}0 & 0 & 0 & 0\\\\0 & 0 & 0 & 0\\\\1 & 1 & 1 & 1\\\\0 & 0 & 0 & L_{3}\\\\0 & - L_{1} & - L_{1} - L_{2} & - L_{1} - L_{2}\\\\0 & 0 & 0 & 0\\end{matrix}\\right]$"
      ],
      "text/plain": [
       "⎡0   0      0         0    ⎤\n",
       "⎢                          ⎥\n",
       "⎢0   0      0         0    ⎥\n",
       "⎢                          ⎥\n",
       "⎢1   1      1         1    ⎥\n",
       "⎢                          ⎥\n",
       "⎢0   0      0         L₃   ⎥\n",
       "⎢                          ⎥\n",
       "⎢0  -L₁  -L₁ - L₂  -L₁ - L₂⎥\n",
       "⎢                          ⎥\n",
       "⎣0   0      0         0    ⎦"
      ]
     },
     "execution_count": 76,
     "metadata": {},
     "output_type": "execute_result"
    }
   ],
   "source": [
    "Js[:, 0] = Js1\n",
    "Js[:, 1] = Js2\n",
    "Js[:, 2] = Js3\n",
    "Js[:, 3] = Js4\n",
    "Js"
   ]
  },
  {
   "cell_type": "code",
   "execution_count": null,
   "metadata": {},
   "outputs": [],
   "source": []
  }
 ],
 "metadata": {
  "kernelspec": {
   "display_name": "Python 3.8.13 ('robotics')",
   "language": "python",
   "name": "python3"
  },
  "language_info": {
   "codemirror_mode": {
    "name": "ipython",
    "version": 3
   },
   "file_extension": ".py",
   "mimetype": "text/x-python",
   "name": "python",
   "nbconvert_exporter": "python",
   "pygments_lexer": "ipython3",
   "version": "3.8.13"
  },
  "vscode": {
   "interpreter": {
    "hash": "7c367ba602bb56783fbda3c2794e4d9b7863a8a3f3e83edfb9f45eecef099e8a"
   }
  }
 },
 "nbformat": 4,
 "nbformat_minor": 4
}
